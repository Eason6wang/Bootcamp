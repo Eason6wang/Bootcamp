{
 "cells": [
  {
   "cell_type": "code",
   "execution_count": 1,
   "metadata": {},
   "outputs": [
    {
     "name": "stdout",
     "output_type": "stream",
     "text": [
      "tensorflow version 1.12.0\n"
     ]
    }
   ],
   "source": [
    "import numpy as np\n",
    "import tensorflow as tf\n",
    "import matplotlib.pyplot as plt\n",
    "import sys\n",
    "print(\"tensorflow version {}\".format(tf.VERSION)) # make sure its tensorflow 1.*.*"
   ]
  },
  {
   "cell_type": "code",
   "execution_count": 2,
   "metadata": {},
   "outputs": [
    {
     "name": "stdout",
     "output_type": "stream",
     "text": [
      "Tensor(\"a_constant:0\", shape=(2, 1), dtype=float32)\n",
      "Tensor(\"b_constant:0\", shape=(2, 1), dtype=float32)\n",
      "Tensor(\"op:0\", shape=(2, 1), dtype=float32)\n",
      "Tensor(\"op_1:0\", shape=(2, 1), dtype=float32)\n"
     ]
    }
   ],
   "source": [
    "#c=a+b\n",
    "#d=c*a\n",
    "g0=tf.Graph()\n",
    "with g0.as_default(): # context manager\n",
    "    a = tf.constant([[1],[2]], dtype=tf.float32,name='a_constant')\n",
    "    b = tf.constant([[2],[3]], dtype=tf.float32,name='b_constant')\n",
    "    c=tf.add(a,b,name='op')  # c = a + b\n",
    "    d=tf.multiply(c,a,name='op') #d = c * a\n",
    "print(a)\n",
    "print(b)\n",
    "print(c)\n",
    "print(d)\n",
    "#building the graph (the actual computation does not happen here, though its tempting to think of that)\n",
    "#build the engine"
   ]
  },
  {
   "cell_type": "code",
   "execution_count": 11,
   "metadata": {},
   "outputs": [
    {
     "name": "stdout",
     "output_type": "stream",
     "text": [
      "value of a =\n",
      " [[1.]\n",
      " [2.]]\n",
      "value of c =\n",
      " [[3.]\n",
      " [5.]]\n",
      "value of d =\n",
      " [[ 3.]\n",
      " [10.]]\n"
     ]
    }
   ],
   "source": [
    "#computation occurs\n",
    "#start the engine\n",
    "sess0=tf.Session(graph=g0)\n",
    "check = ['a','c','d']\n",
    "result=sess0.run([a,c,d])\n",
    "for i, re in enumerate(result):\n",
    "    print(f'value of {check[i]} =\\n {re}')\n",
    "\n",
    "#visualize the graph\n",
    "writer = tf.summary.FileWriter('.',sess0.graph)\n",
    "writer.flush()\n",
    "\n",
    "sess0.close()"
   ]
  },
  {
   "cell_type": "code",
   "execution_count": 12,
   "metadata": {},
   "outputs": [
    {
     "name": "stdout",
     "output_type": "stream",
     "text": [
      "/Users/haobei/Projects/Tutorial\r\n"
     ]
    }
   ],
   "source": [
    "!pwd"
   ]
  },
  {
   "cell_type": "code",
   "execution_count": null,
   "metadata": {},
   "outputs": [],
   "source": [
    "#quiz 1\n",
    "#g0_q=tf.Graph()\n",
    "#c = a @ b\n",
    "#a.shape=(4,2), b.shape=(2,3) "
   ]
  },
  {
   "cell_type": "code",
   "execution_count": 28,
   "metadata": {},
   "outputs": [
    {
     "name": "stdout",
     "output_type": "stream",
     "text": [
      "Tensor(\"Const_1:0\", shape=(), dtype=int32) <tensorflow.python.framework.ops.Graph object at 0xb368974a8>\n",
      "Tensor(\"a_random:0\", shape=(2, 3), dtype=float32) <tensorflow.python.framework.ops.Graph object at 0xb37482908>\n",
      "Tensor(\"b:0\", shape=(3, 2), dtype=float32) <tensorflow.python.framework.ops.Graph object at 0xb37482908>\n",
      "name: \"print\"\n",
      "op: \"PrintV2\"\n",
      "input: \"print_format\"\n",
      "attr {\n",
      "  key: \"output_stream\"\n",
      "  value {\n",
      "    s: \"stderr\"\n",
      "  }\n",
      "}\n",
      " <tensorflow.python.framework.ops.Graph object at 0xb37482908>\n",
      "<tf.Variable 'var_x:0' shape=(2, 2) dtype=float32_ref> <tensorflow.python.framework.ops.Graph object at 0xb37482908>\n",
      "Tensor(\"matmul:0\", shape=(2, 2), dtype=float32) <tensorflow.python.framework.ops.Graph object at 0xb37482908>\n",
      "Tensor(\"add:0\", shape=(2, 2), dtype=float32) <tensorflow.python.framework.ops.Graph object at 0xb37482908>\n"
     ]
    }
   ],
   "source": [
    "#tensor math matrix\n",
    "#with \"defaultGraph\".as_default():\n",
    "g1=tf.Graph()\n",
    "a0 = tf.constant(2)\n",
    "with g1.as_default():\n",
    "    a = tf.random_normal([2,3], dtype=tf.float32,name='a_random')\n",
    "    b = tf.constant([[1,1],[1,1],[1,1]], dtype=tf.float32,name='b')\n",
    "    op = tf.print(\"value of a\",a,name='print')\n",
    "    var_x = tf.get_variable(\"var_x\", [2,2], dtype=tf.float32, trainable=False,\n",
    "                            initializer=tf.zeros_initializer)\n",
    "    c = tf.matmul(a,b,name='matmul') # a @ b\n",
    "    d = c + var_x #tf.add\n",
    "print(a0,a0.graph)\n",
    "print(a,a.graph)\n",
    "print(b,b.graph)\n",
    "print(op,op.graph)\n",
    "print(var_x,var_x.graph)\n",
    "print(c,c.graph)\n",
    "print(d,d.graph)"
   ]
  },
  {
   "cell_type": "code",
   "execution_count": 29,
   "metadata": {},
   "outputs": [],
   "source": [
    "#engine switch\n",
    "sess1=tf.Session(graph=g1)"
   ]
  },
  {
   "cell_type": "code",
   "execution_count": 34,
   "metadata": {},
   "outputs": [
    {
     "name": "stdout",
     "output_type": "stream",
     "text": [
      "print None\n",
      "a [[-0.29186842 -0.9978778  -0.19558117]\n",
      " [ 1.2899557  -2.2978728   0.951034  ]]\n",
      "matmul None\n",
      "c [[-1.1931411 -1.1931411]\n",
      " [-1.0864615 -1.0864615]]\n",
      "a,c [array([[ 0.20787936, -0.04259888,  0.02942852],\n",
      "       [ 0.4188132 , -2.8560536 ,  0.06641963]], dtype=float32), array([[ 0.194709 ,  0.194709 ],\n",
      "       [-2.3708208, -2.3708208]], dtype=float32)]\n",
      "initilizer None\n",
      "d [[-0.5515394  -0.5515394 ]\n",
      " [-0.39079452 -0.39079452]]\n",
      "var_x [[0. 0.]\n",
      " [0. 0.]]\n",
      "d [[-0.10896802 -0.10896802]\n",
      " [-2.3846135  -2.3846135 ]]\n",
      "assign [[1. 0.]\n",
      " [1. 1.]]\n",
      "var_x,d [array([[1., 0.],\n",
      "       [1., 1.]], dtype=float32), array([[ 0.48194498, -0.518055  ],\n",
      "       [ 0.6044959 ,  0.6044959 ]], dtype=float32)]\n"
     ]
    }
   ],
   "source": [
    "print('print',sess1.run(op))\n",
    "print('a',sess1.run(a)) #print(a.eval(session=sess))\n",
    "print('matmul',sess1.run('matmul'))\n",
    "print('c',sess1.run('matmul:0')) #c\n",
    "# print('a,c',sess1.run([a,c]))\n",
    "# print('initilizer',sess1.run(var_x.initializer))\n",
    "# with g1.as_default():\n",
    "#     sess1.run(tf.global_variables_initializer())\n",
    "# print('d',sess1.run(d))\n",
    "# print('var_x',sess1.run(var_x))\n",
    "# print('d',sess1.run(d))\n",
    "# print('assign',sess1.run(var_x.assign_add([[1,0],[1,1]])))\n",
    "# print('var_x,d',sess1.run([var_x,d]))"
   ]
  },
  {
   "cell_type": "code",
   "execution_count": 32,
   "metadata": {},
   "outputs": [],
   "source": [
    "#print the design blue print of the engine\n",
    "writer = tf.summary.FileWriter('.',sess1.graph)\n",
    "writer.flush()"
   ]
  },
  {
   "cell_type": "code",
   "execution_count": null,
   "metadata": {},
   "outputs": [],
   "source": [
    "#facilitate updates of weights of a neural network\n",
    "with g1.as_default():\n",
    "    sess1.run(tf.global_variables_initializer())\n",
    "with g1.as_default():\n",
    "    print(tf.get_collection(tf.GraphKeys.GLOBAL_VARIABLES)) \n",
    "    print(tf.get_collection(tf.GraphKeys.TRAINABLE_VARIABLES))"
   ]
  },
  {
   "cell_type": "code",
   "execution_count": null,
   "metadata": {},
   "outputs": [],
   "source": [
    "sess1.close()"
   ]
  },
  {
   "cell_type": "code",
   "execution_count": null,
   "metadata": {},
   "outputs": [],
   "source": [
    "#quiz 2\n",
    "#g1_q=tf.Graph()\n",
    "#d = tf.reduce_sum(var_w * ((L @ x)^2)) + var_b\n",
    "# var_w.shape=(3,) L.shape=(2,3) x.shape=(3,) var_b.shape=(1,) initializer: tf.random_normal_initializer"
   ]
  },
  {
   "cell_type": "code",
   "execution_count": null,
   "metadata": {},
   "outputs": [],
   "source": [
    "x = np.array([[1], [2], [3], [4]],dtype=np.float32)\n",
    "y = np.array([[4], [3], [2], [1]],dtype=np.float32)"
   ]
  },
  {
   "cell_type": "code",
   "execution_count": null,
   "metadata": {},
   "outputs": [],
   "source": [
    "# build default graph\n",
    "tf.reset_default_graph()\n",
    "# mini-batch \n",
    "x_p = tf.placeholder(dtype=tf.float32,shape=(None,1),name=\"x_placeholder\") # shape is determained at runtime\n",
    "y_p = tf.placeholder(dtype=tf.float32,shape=(None,1),name=\"y_placeholder\")\n",
    "\n",
    "W = tf.get_variable(\"weight\",shape=(1,),dtype=tf.float32,\n",
    "                    initializer=tf.ones_initializer,\n",
    "                    trainable=True)\n",
    "b = tf.get_variable(\"bias\",shape=(1,),dtype=tf.float32,\n",
    "                    initializer=tf.zeros_initializer,\n",
    "                    trainable=True)\n",
    "y_hat = W * x_p + b\n",
    "loss = tf.reduce_mean(tf.square(y_hat - y_p))"
   ]
  },
  {
   "cell_type": "code",
   "execution_count": null,
   "metadata": {},
   "outputs": [],
   "source": [
    "sess=tf.Session() # session of the default graph\n",
    "#print the design blue print of the engine\n",
    "writer = tf.summary.FileWriter('.',sess.graph)\n",
    "writer.flush()"
   ]
  },
  {
   "cell_type": "code",
   "execution_count": null,
   "metadata": {},
   "outputs": [],
   "source": [
    "gradient = tf.gradients(loss,[W,b])\n",
    "#print the design blue print of the engine\n",
    "writer = tf.summary.FileWriter('.',sess.graph)\n",
    "writer.flush()"
   ]
  },
  {
   "cell_type": "code",
   "execution_count": null,
   "metadata": {},
   "outputs": [],
   "source": [
    "sess.run(tf.global_variables_initializer())\n",
    "W_init = sess.run([W,b])\n",
    "print(W_init)\n",
    "prediction = sess.run([y_hat,loss,gradient],feed_dict={x_p: x,y_p: y})\n",
    "print(prediction)\n",
    "for i in range(100):\n",
    "    grad=sess.run(gradient,feed_dict={x_p: x,y_p: y})\n",
    "    W_old,b_old = sess.run([W,b])\n",
    "#     sess.run([W.assign_sub(0.1*grad[0]),b.assign_sub(0.1*grad[1])]) what about millions of weights?\n",
    "    sess.run([var.assign_sub(0.1*gradient) for var,gradient in zip(tf.get_collection(tf.GraphKeys.TRAINABLE_VARIABLES),grad)])\n",
    "    W_new,b_new = sess.run([W,b])\n",
    "    print(i,\"gradient: \",grad, \"\\t\", W_old,b_old, \"==>\",W_new,b_new)\n",
    "print(sess.run([W,b]))"
   ]
  },
  {
   "cell_type": "code",
   "execution_count": null,
   "metadata": {},
   "outputs": [],
   "source": [
    "prediction = sess.run([y_hat,loss,gradient],feed_dict={x_p: x,y_p: y})\n",
    "print(\"prediction\")\n",
    "print(prediction[0])\n",
    "print(\"target\")\n",
    "print(y)\n",
    "# 1000 steps"
   ]
  },
  {
   "cell_type": "code",
   "execution_count": null,
   "metadata": {},
   "outputs": [],
   "source": [
    "# single sigmoid neuron prediction on two-dimension data\n",
    "x = np.array([[0,0],[1,0],[0,1],[1,1]])\n",
    "y = np.array([[0],[0],[1],[1]])\n",
    "#tf.sigmoid() tf.reduce_mean()"
   ]
  },
  {
   "cell_type": "code",
   "execution_count": null,
   "metadata": {},
   "outputs": [],
   "source": [
    "#your implementation goes here, add more code cells if necessary"
   ]
  },
  {
   "cell_type": "code",
   "execution_count": null,
   "metadata": {},
   "outputs": [],
   "source": [
    "# visualize the model\n",
    "vis_inputs = np.random.uniform(size=(10000,2))\n",
    "predictions = sess.run(y_hat,feed_dict={x_p:vis_inputs})\n",
    "print(predictions.shape)\n",
    "colors = list(map(lambda p: 'red' if p < 0.5 else 'blue', predictions))\n",
    "plt.scatter(vis_inputs[:,0], vis_inputs[:,1], 1, colors)"
   ]
  },
  {
   "cell_type": "code",
   "execution_count": null,
   "metadata": {},
   "outputs": [],
   "source": [
    "# single sigmoid neuron prediction on () two-dimension data\n",
    "x = np.array([[0,0],[1,0],[0,1],[1,1]])\n",
    "y = np.array([[0],[1],[1],[0]])"
   ]
  },
  {
   "cell_type": "code",
   "execution_count": null,
   "metadata": {},
   "outputs": [],
   "source": [
    "# visualize the model\n",
    "vis_inputs = np.random.uniform(size=(10000,2))\n",
    "predictions = sess.run(y_hat,feed_dict={x_p:vis_inputs})\n",
    "print(predictions.shape)\n",
    "colors = list(map(lambda p: 'red' if p < 0.5 else 'blue', predictions))\n",
    "plt.scatter(vis_inputs[:,0], vis_inputs[:,1], 1, colors)"
   ]
  },
  {
   "cell_type": "markdown",
   "metadata": {},
   "source": [
    "# Summary\n",
    "## 1. What is tensorflow?\n",
    "## 2. Why do people use tensorflow?\n",
    "## 3. How to write tensorflow program?\n",
    "### (1). Build dataflow graph\n",
    "### (2). Run dataflow graph and train the weights\n",
    "## 4. (Bonus) What is feature learning and feature crafting (feature engineering), Difference, how to do feature crafting?"
   ]
  },
  {
   "cell_type": "markdown",
   "metadata": {},
   "source": [
    "## 1. \n",
    "\n",
    "## 2.\n",
    "\n",
    "## 3.(1). \n",
    "\n",
    "## 3.(2).\n",
    "\n",
    "## 4."
   ]
  }
 ],
 "metadata": {
  "kernelspec": {
   "display_name": "Python 3",
   "language": "python",
   "name": "python3"
  },
  "language_info": {
   "codemirror_mode": {
    "name": "ipython",
    "version": 3
   },
   "file_extension": ".py",
   "mimetype": "text/x-python",
   "name": "python",
   "nbconvert_exporter": "python",
   "pygments_lexer": "ipython3",
   "version": "3.6.8"
  }
 },
 "nbformat": 4,
 "nbformat_minor": 2
}
